{
 "cells": [
  {
   "cell_type": "code",
   "execution_count": 1,
   "metadata": {},
   "outputs": [
    {
     "name": "stderr",
     "output_type": "stream",
     "text": [
      "Using TensorFlow backend.\n"
     ]
    }
   ],
   "source": [
    "import keras\n",
    "import keras.backend as K\n",
    "import numpy as np\n",
    "from keras.utils import generic_utils\n",
    "from keras.optimizers import Adam, SGD\n",
    "from PIL import Image\n",
    "from models import discriminator, generator, GAN\n",
    "from facade_dataset import load_dataset"
   ]
  },
  {
   "cell_type": "code",
   "execution_count": 19,
   "metadata": {},
   "outputs": [
    {
     "name": "stdout",
     "output_type": "stream",
     "text": [
      "load dataset start\n",
      "     from: ./dataset/base/\n",
      "load dataset done\n",
      "load dataset start\n",
      "     from: ./dataset/base/\n",
      "load dataset done\n"
     ]
    }
   ],
   "source": [
    "train_img, train_label = load_dataset(data_range=(1,300))\n",
    "train_label = train_label[:,:,:,np.newaxis]\n",
    "test_img, test_label = load_dataset(data_range=(300,379))\n",
    "test_label = test_label[:,:,:,np.newaxis]"
   ]
  },
  {
   "cell_type": "code",
   "execution_count": 20,
   "metadata": {},
   "outputs": [
    {
     "data": {
      "text/plain": [
       "(299, 256, 256, 1)"
      ]
     },
     "execution_count": 20,
     "metadata": {},
     "output_type": "execute_result"
    }
   ],
   "source": [
    "train_label.shape"
   ]
  },
  {
   "cell_type": "code",
   "execution_count": 13,
   "metadata": {
    "collapsed": true
   },
   "outputs": [],
   "source": [
    "def l1_loss(y_true,y_pred):\n",
    "    return K.mean(K.abs(y_pred - y_true))"
   ]
  },
  {
   "cell_type": "code",
   "execution_count": 14,
   "metadata": {
    "collapsed": true
   },
   "outputs": [],
   "source": [
    "patch_size = 64\n",
    "batch_size = 50\n",
    "nb_epoch = 1"
   ]
  },
  {
   "cell_type": "code",
   "execution_count": 15,
   "metadata": {
    "collapsed": true
   },
   "outputs": [],
   "source": [
    "# Create optimizers\n",
    "opt_gan = Adam(lr=1E-3, beta_1=0.9, beta_2=0.999, epsilon=1e-08)\n",
    "# opt_discriminator = SGD(lr=1E-3, momentum=0.9, nesterov=True)\n",
    "opt_discriminator = Adam(lr=1E-3, beta_1=0.9, beta_2=0.999, epsilon=1e-08)"
   ]
  },
  {
   "cell_type": "code",
   "execution_count": 16,
   "metadata": {},
   "outputs": [],
   "source": [
    "gan_loss = [l1_loss, 'binary_crossentropy']\n",
    "gan_loss_weights = [10,1]\n",
    "\n",
    "gen = generator()\n",
    "dis = discriminator(patch_size)\n",
    "dis.trainable = False\n",
    "\n",
    "gan = GAN(gen,dis)\n",
    "gan.compile(loss = gan_loss, loss_weights = gan_loss_weights,optimizer = opt_gan)\n",
    "\n",
    "dis.trainable = True\n",
    "dis.compile(loss='binary_crossentropy', optimizer=opt_discriminator)            "
   ]
  },
  {
   "cell_type": "code",
   "execution_count": null,
   "metadata": {},
   "outputs": [
    {
     "name": "stdout",
     "output_type": "stream",
     "text": [
      "Epoch is  0\n",
      "Number of batches 5\n",
      "0\n",
      "(50, 256, 256, 3)\n",
      "1\n",
      "(50, 256, 256, 3)\n"
     ]
    }
   ],
   "source": [
    "nb_train = 299\n",
    "for epoch in range(nb_epoch):\n",
    "    print(\"Epoch is \", epoch)\n",
    "    print(\"Number of batches\", int(nb_train/batch_size))\n",
    "    ind = np.random.permutation(nb_train)\n",
    "    for index in range(int(nb_train/batch_size)):\n",
    "        print(index)\n",
    "        img_batch = train_img[ind[(index*batch_size) : ((index+1)*batch_size)],:,:,:]\n",
    "        label_batch =train_label[ind[(index*batch_size) : ((index+1)*batch_size)],:,:,:]\n",
    "        generated_img = gen.predict(label_batch)\n",
    "        labels = np.concatenate([label_batch,label_batch])\n",
    "        imgs = np.concatenate([img_batch,generated_img])\n",
    "        dis_y = np.array([1] * batch_size + [0] * batch_size)\n",
    "        d_loss = np.array(dis.train_on_batch([labels,imgs],dis_y ))\n",
    "        gan_y = np.array([1] * batch_size)\n",
    "        g_loss = gan.train_on_batch([label_batch, img_batch], [img_batch, gan_y])\n",
    "        "
   ]
  },
  {
   "cell_type": "code",
   "execution_count": null,
   "metadata": {},
   "outputs": [],
   "source": [
    "label_batch =train_label[0: 10,:,:,:]\n",
    "labels = np.concatenate([label_batch,label_batch])"
   ]
  },
  {
   "cell_type": "code",
   "execution_count": null,
   "metadata": {
    "collapsed": true
   },
   "outputs": [],
   "source": []
  },
  {
   "cell_type": "markdown",
   "metadata": {},
   "source": [
    "## test"
   ]
  },
  {
   "cell_type": "code",
   "execution_count": 56,
   "metadata": {},
   "outputs": [
    {
     "data": {
      "text/plain": [
       "[8.7451668, 0.78720349, 0.87313193]"
      ]
     },
     "execution_count": 56,
     "metadata": {},
     "output_type": "execute_result"
    }
   ],
   "source": [
    "label_batch =train_label[0: 10,:,:,:]\n",
    "img_batch = train_img[0:10,:,:,:]\n",
    "\n",
    "train_y = np.array([1] * 10)\n",
    "gan.train_on_batch([label_batch,img_batch],[img_batch,train_y])"
   ]
  },
  {
   "cell_type": "code",
   "execution_count": 36,
   "metadata": {
    "collapsed": true
   },
   "outputs": [],
   "source": [
    "w0 = np.copy(dis.layers[-1].get_weights()[0])\n",
    "gan.train_on_batch([train_label,train_img], [train_img,train_y])\n",
    "w1 = np.copy(dis.layers[-1].get_weights()[0])\n",
    "dis.train_on_batch([train_label,train_img],train_y)\n",
    "w2 = np.copy(dis.layers[-1].get_weights()[0])"
   ]
  },
  {
   "cell_type": "code",
   "execution_count": 37,
   "metadata": {},
   "outputs": [
    {
     "name": "stdout",
     "output_type": "stream",
     "text": [
      "True\n",
      "False\n"
     ]
    }
   ],
   "source": [
    "print(np.array_equal(w0,w1))\n",
    "print(np.array_equal(w1,w2))"
   ]
  },
  {
   "cell_type": "code",
   "execution_count": 52,
   "metadata": {},
   "outputs": [
    {
     "data": {
      "text/plain": [
       "array([2, 1, 6])"
      ]
     },
     "execution_count": 52,
     "metadata": {},
     "output_type": "execute_result"
    }
   ],
   "source": [
    "a = np.arange(10)\n",
    "a[[2,1,6]]"
   ]
  },
  {
   "cell_type": "code",
   "execution_count": null,
   "metadata": {
    "collapsed": true
   },
   "outputs": [],
   "source": []
  }
 ],
 "metadata": {
  "kernelspec": {
   "display_name": "Python 3",
   "language": "python",
   "name": "python3"
  },
  "language_info": {
   "codemirror_mode": {
    "name": "ipython",
    "version": 3
   },
   "file_extension": ".py",
   "mimetype": "text/x-python",
   "name": "python",
   "nbconvert_exporter": "python",
   "pygments_lexer": "ipython3",
   "version": "3.6.1"
  }
 },
 "nbformat": 4,
 "nbformat_minor": 2
}
